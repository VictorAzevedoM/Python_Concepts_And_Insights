{
  "nbformat": 4,
  "nbformat_minor": 0,
  "metadata": {
    "colab": {
      "provenance": [],
      "authorship_tag": "ABX9TyPQmtV6fsbEo8KgHDCq6uJ5",
      "include_colab_link": true
    },
    "kernelspec": {
      "name": "python3",
      "display_name": "Python 3"
    },
    "language_info": {
      "name": "python"
    }
  },
  "cells": [
    {
      "cell_type": "markdown",
      "metadata": {
        "id": "view-in-github",
        "colab_type": "text"
      },
      "source": [
        "<a href=\"https://colab.research.google.com/github/VictorAzevedoM/Python_Concepts_And_Insights/blob/main/Python_Concepts_and_Applications.ipynb\" target=\"_parent\"><img src=\"https://colab.research.google.com/assets/colab-badge.svg\" alt=\"Open In Colab\"/></a>"
      ]
    },
    {
      "cell_type": "markdown",
      "source": [
        "### OOP in Python\n"
      ],
      "metadata": {
        "id": "Z7r5YYPNZUTn"
      }
    },
    {
      "cell_type": "code",
      "source": [
        "class Car:\n",
        "  def __init__(self, model: str,  year: int, plate: str) -> None:\n",
        "      self.model = model\n",
        "      self.year = year\n",
        "      self.plate = plate\n",
        "      self.turned_on: bool = False\n",
        "\n",
        "\n",
        "  def accelerate(self) -> None:\n",
        "      print(f\"{self.model} is accelerating\")\n",
        "\n",
        "  def turn_on(self) -> None:\n",
        "      if self.turned_on:\n",
        "          print(f\"{self.model} is already turned on\")\n",
        "      else:\n",
        "          self.turned_on = True\n",
        "          print(f\"{self.model} is turned on\")\n",
        "\n",
        "  def turn_off(self) -> None:\n",
        "      if self.turned_on:\n",
        "          self.turned_on = False\n",
        "          print(f\"{self.model} is  turned off\")\n",
        "      else:\n",
        "          print(f\"{self.model} is already turned off\")\n",
        "\n",
        "  def __add__(self, other):\n",
        "      return self.year + other.year\n",
        "\n",
        "# User friendly\n",
        "  def __str__(self) -> str:\n",
        "      return f'{self.model} ({self.year})'\n",
        "# Usefull for the developer\n",
        "  def __repr__(self) -> str:\n",
        "      return f'{self.model} and {self.plate}'"
      ],
      "metadata": {
        "id": "oCtSTrOIDpXi"
      },
      "execution_count": null,
      "outputs": []
    },
    {
      "cell_type": "code",
      "source": [
        "fusca: Car = Car(\"Fusca\", 1970, \"ABC-1155\")\n",
        "fusca.turn_on()"
      ],
      "metadata": {
        "colab": {
          "base_uri": "https://localhost:8080/"
        },
        "id": "fepNd5ZyPuIe",
        "outputId": "0d55a787-d055-4e21-e420-28bdbe45fcae"
      },
      "execution_count": null,
      "outputs": [
        {
          "output_type": "stream",
          "name": "stdout",
          "text": [
            "Fusca is turned on\n"
          ]
        }
      ]
    },
    {
      "cell_type": "markdown",
      "source": [
        "### List Comprehensions"
      ],
      "metadata": {
        "id": "PvYTV66udJuo"
      }
    },
    {
      "cell_type": "code",
      "source": [
        "# Basic loop comprehensions\n",
        "values = [x for x in range(10)]"
      ],
      "metadata": {
        "id": "4ieXmsc_dMOA"
      },
      "execution_count": null,
      "outputs": []
    },
    {
      "cell_type": "code",
      "source": [
        "# Conditionals comprehensions\n",
        "evens = [number for number in range(50) if number % 2 == 0]\n",
        "evens"
      ],
      "metadata": {
        "id": "rEisPwo_avZr"
      },
      "execution_count": null,
      "outputs": []
    },
    {
      "cell_type": "code",
      "source": [
        "# comprehensions with multiple conditions\n",
        "options = [ \"any\", \"albany\", \"apple\", \"world\", \"hello\", \"\"]\n",
        "valid_strings = [\n",
        "    string\n",
        "    for string in options\n",
        "    if len(string) >= 2\n",
        "    if string[0] == \"a\"\n",
        "    if string [-1] == \"y\"\n",
        "    ]"
      ],
      "metadata": {
        "id": "E5_5bhEEbWFe"
      },
      "execution_count": null,
      "outputs": []
    },
    {
      "cell_type": "code",
      "source": [
        "# Multiple list comprehensions\n",
        "matrix = [[1,2,3], [4,5,6], [7,8,9]]\n",
        "flat = [num for row in matrix for num in row]\n",
        "flat"
      ],
      "metadata": {
        "colab": {
          "base_uri": "https://localhost:8080/"
        },
        "id": "AzHyTj41cR35",
        "outputId": "64675ef0-0524-4f1f-aaa8-a0499771cf61"
      },
      "execution_count": null,
      "outputs": [
        {
          "output_type": "execute_result",
          "data": {
            "text/plain": [
              "[1, 2, 3, 4, 5, 6, 7, 8, 9]"
            ]
          },
          "metadata": {},
          "execution_count": 4
        }
      ]
    },
    {
      "cell_type": "code",
      "source": [
        "# if else in a comprehension\n",
        "categories = [\"Even\" if x % 2 == 0  else \"Odd\" for x in range(10)]\n",
        "categories"
      ],
      "metadata": {
        "colab": {
          "base_uri": "https://localhost:8080/"
        },
        "id": "IknR-wGfcrem",
        "outputId": "8e232c0c-32a0-42b5-99ea-766c92ba72a2"
      },
      "execution_count": null,
      "outputs": [
        {
          "output_type": "execute_result",
          "data": {
            "text/plain": [
              "['Even', 'Odd', 'Even', 'Odd', 'Even', 'Odd', 'Even', 'Odd', 'Even', 'Odd']"
            ]
          },
          "metadata": {},
          "execution_count": 6
        }
      ]
    },
    {
      "cell_type": "code",
      "source": [
        "# Nested List comprehensions\n",
        "lst  = [[[num for num in range(5)] for _ in range(5)] for _ in range(5)]\n",
        "lst\n"
      ],
      "metadata": {
        "id": "ltV7ia6vdCoZ"
      },
      "execution_count": null,
      "outputs": []
    },
    {
      "cell_type": "code",
      "source": [
        "# transformation in comprehension\n",
        "def square(x):\n",
        "  return x**2\n",
        "squared_numbers = [square(x) for x in range(10)]\n",
        "squared_numbers"
      ],
      "metadata": {
        "colab": {
          "base_uri": "https://localhost:8080/"
        },
        "id": "MKqo0iDvd_VX",
        "outputId": "9dfd307a-36d7-4428-edb8-e083e926be11"
      },
      "execution_count": null,
      "outputs": [
        {
          "output_type": "execute_result",
          "data": {
            "text/plain": [
              "[0, 1, 4, 9, 16, 25, 36, 49, 64, 81]"
            ]
          },
          "metadata": {},
          "execution_count": 8
        }
      ]
    },
    {
      "cell_type": "code",
      "source": [
        "# Dict comp\n",
        "pairs = [(\"a\", 1), (\"b\", 2), (\"c\", 3)]\n",
        "my_dict = {k:v for k, v in pairs}\n",
        "my_dict"
      ],
      "metadata": {
        "colab": {
          "base_uri": "https://localhost:8080/"
        },
        "id": "5BmBIdroeo3Z",
        "outputId": "6a780578-9723-4eaa-88f2-54e77ef039c0"
      },
      "execution_count": null,
      "outputs": [
        {
          "output_type": "execute_result",
          "data": {
            "text/plain": [
              "{'a': 1, 'b': 2, 'c': 3}"
            ]
          },
          "metadata": {},
          "execution_count": 9
        }
      ]
    },
    {
      "cell_type": "code",
      "source": [
        "# Set comp\n",
        "unique_squares = {x**2 for x in range(10)}\n",
        "unique_squares"
      ],
      "metadata": {
        "colab": {
          "base_uri": "https://localhost:8080/"
        },
        "id": "F_Mhvpwae7jH",
        "outputId": "588897f1-6a35-45bc-8119-9bb3502514e0"
      },
      "execution_count": null,
      "outputs": [
        {
          "output_type": "execute_result",
          "data": {
            "text/plain": [
              "{0, 1, 4, 9, 16, 25, 36, 49, 64, 81}"
            ]
          },
          "metadata": {},
          "execution_count": 10
        }
      ]
    },
    {
      "cell_type": "code",
      "source": [
        "# Generator comp\n",
        "sum_of_squares = sum(x**2 for x in range(100000))\n"
      ],
      "metadata": {
        "id": "GF9hPCW-fRIz"
      },
      "execution_count": null,
      "outputs": []
    },
    {
      "cell_type": "markdown",
      "source": [
        "### Decorators"
      ],
      "metadata": {
        "id": "3_T8Fx__gRWv"
      }
    },
    {
      "cell_type": "markdown",
      "source": [
        "### A function that modifies  another function"
      ],
      "metadata": {
        "id": "f7njRMeAgS1k"
      }
    },
    {
      "cell_type": "code",
      "source": [],
      "metadata": {
        "id": "blFKCfc9ocyP"
      },
      "execution_count": null,
      "outputs": []
    }
  ]
}